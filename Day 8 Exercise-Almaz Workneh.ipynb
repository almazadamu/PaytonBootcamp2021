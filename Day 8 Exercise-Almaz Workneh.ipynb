{
 "cells": [
  {
   "cell_type": "markdown",
   "metadata": {},
   "source": [
    "### Exercise 1. \n",
    "Create a dictionary named pairs with key value pairs of:\n",
    "    - 'hello' and 'fire', \n",
    "    - 3 and 'seven', \n",
    "    - 'strong' and 45. \n",
    "\n",
    "Then, print out the dictionary."
   ]
  },
  {
   "cell_type": "code",
   "execution_count": 1,
   "metadata": {},
   "outputs": [
    {
     "name": "stdout",
     "output_type": "stream",
     "text": [
      "{'hello': 'fire', 3: 'seven', 'strong': 45}\n"
     ]
    }
   ],
   "source": [
    "pairs = {\"hello\": \"fire\", 3 : \"seven\", \"strong\" : 45}\n",
    "print(pairs)"
   ]
  },
  {
   "cell_type": "markdown",
   "metadata": {},
   "source": [
    "### Exercise 2. \n",
    "Add 'welcome' and 56 pair into <b><i>pairs</i></b> dictionary from exercise 1. Then, print out the dictionary. "
   ]
  },
  {
   "cell_type": "code",
   "execution_count": 2,
   "metadata": {},
   "outputs": [
    {
     "name": "stdout",
     "output_type": "stream",
     "text": [
      "{'hello': 'fire', 3: 'seven', 'strong': 45, 'welcome': 56}\n"
     ]
    }
   ],
   "source": [
    "pairs[\"welcome\"] = 56\n",
    "print(pairs)"
   ]
  },
  {
   "cell_type": "markdown",
   "metadata": {},
   "source": [
    "### Exercise 3. \n",
    "Delete one item from <b><i>pairs</i></b> dictionary. Then, print deleted item and the dictionary."
   ]
  },
  {
   "cell_type": "code",
   "execution_count": 3,
   "metadata": {},
   "outputs": [
    {
     "name": "stdout",
     "output_type": "stream",
     "text": [
      "('welcome', 56)\n",
      "{'hello': 'fire', 3: 'seven', 'strong': 45}\n"
     ]
    }
   ],
   "source": [
    "item = pairs.popitem()\n",
    "print(item)\n",
    "print(pairs)"
   ]
  },
  {
   "cell_type": "markdown",
   "metadata": {},
   "source": [
    "### Exercise 4. \n",
    "Print the value of an item where key is 3 in <b><i>pairs</i></b> dicitonary"
   ]
  },
  {
   "cell_type": "code",
   "execution_count": 4,
   "metadata": {},
   "outputs": [
    {
     "name": "stdout",
     "output_type": "stream",
     "text": [
      "seven\n",
      "{'hello': 'fire', 3: 'seven', 'strong': 45}\n"
     ]
    }
   ],
   "source": [
    "item = pairs[3]\n",
    "print(item)\n",
    "print(pairs)"
   ]
  },
  {
   "cell_type": "markdown",
   "metadata": {},
   "source": [
    "### Exercise 5. \n",
    "Try to find out if the key called 'hello' exist in <b><i>pairs</i></b> dictionary. Print 'key is found' message if the key exists otherwise print 'key is not there'."
   ]
  },
  {
   "cell_type": "code",
   "execution_count": 5,
   "metadata": {},
   "outputs": [
    {
     "name": "stdout",
     "output_type": "stream",
     "text": [
      "Key is found\n"
     ]
    }
   ],
   "source": [
    "if \"hello\" in pairs :\n",
    "    print(\"Key is found\")\n",
    "else :\n",
    "    print(\"Key is not there\")"
   ]
  },
  {
   "cell_type": "markdown",
   "metadata": {},
   "source": [
    "### Exercise 6. \n",
    "Create a Test Scores program that gets the name of students and test score from a user. Then, generate a list of students who passed and a list of students who failed where passing test score is 60 or above. "
   ]
  },
  {
   "cell_type": "code",
   "execution_count": 7,
   "metadata": {},
   "outputs": [
    {
     "name": "stdout",
     "output_type": "stream",
     "text": [
      "Enter student's name: Almaz\n",
      "Enter student's test score: 98\n",
      "Continue? (y/n)y\n",
      "Enter student's name: david\n",
      "Enter student's test score: 50\n",
      "Continue? (y/n)n\n",
      "{'Almaz': 98.0, 'david': 50.0}\n",
      "\n",
      "Passed Students are ['Almaz']\n",
      "\n",
      "Failed Students are ['david']\n"
     ]
    }
   ],
   "source": [
    "passed = []\n",
    "failed = []\n",
    "students = {}\n",
    "\n",
    "stop = False\n",
    "while not stop :\n",
    "    student = input(\"Enter student's name: \")\n",
    "    score = input(\"Enter student's test score: \")\n",
    "    students[student] = float(score)\n",
    "    stop = input(\"Continue? (y/n)\") == 'n'\n",
    "        \n",
    "        \n",
    "for key,value in students.items() :\n",
    "    if value >= 60 :\n",
    "        passed.append(key)\n",
    "    else :\n",
    "        failed.append(key)\n",
    "        \n",
    "print(students)   \n",
    "print(f\"\\nPassed Students are {passed}\")\n",
    "print(f\"\\nFailed Students are {failed}\")"
   ]
  },
  {
   "cell_type": "code",
   "execution_count": 8,
   "metadata": {},
   "outputs": [
    {
     "name": "stdout",
     "output_type": "stream",
     "text": [
      "Enter student's name: Almaz\n",
      "Enter student's test score: 99\n",
      "Continue? (y/n)y\n",
      "Enter student's name: selam\n",
      "Enter student's test score: 35\n",
      "Continue? (y/n)n\n",
      "\n",
      "Passed students are Almaz\n",
      "\n",
      "Failed students are selam\n"
     ]
    }
   ],
   "source": [
    "# OR use one dictionary\n",
    "def print_list(msg, type_str):\n",
    "    print(f\"\\n{msg}\", end = \"\")\n",
    "    max_no = len(grades[type_str])\n",
    "    i = 0\n",
    "    for item in grades[type_str]:\n",
    "        i += 1\n",
    "        if i == max_no :\n",
    "            print(f\"{item}\")\n",
    "        else :    \n",
    "            print(f\"{item} \", end=', ')    \n",
    "    \n",
    "    \n",
    "    \n",
    "    \n",
    "grades = {\n",
    "    \"students\" : {},\n",
    "    \"passed\" : [],\n",
    "    \"failed\" : []\n",
    "}  \n",
    "\n",
    "stop = False\n",
    "while not stop :\n",
    "    student = {}\n",
    "    name = input(\"Enter student's name: \")\n",
    "    \n",
    "    try :\n",
    "        score = float(input(\"Enter student's test score: \"))\n",
    "        grades[\"students\"][name] = score\n",
    "    except :\n",
    "        print(\"Non-number entered\")\n",
    "        continue\n",
    "    \n",
    "    if score >= 60 :\n",
    "        grades[\"passed\"].append(name)\n",
    "    else :\n",
    "        grades[\"failed\"].append(name)\n",
    "\n",
    "    stop = input(\"Continue? (y/n)\") == 'n'\n",
    "\n",
    "    \n",
    "print_list(\"Passed students are \", 'passed')        \n",
    "print_list(\"Failed students are \", 'failed')        "
   ]
  },
  {
   "cell_type": "markdown",
   "metadata": {},
   "source": [
    "### Exercise 7. \n",
    "\n",
    "Create a Word Counter program that gets a string of text from a user and then counts the number of times a word occrs in the string. \n",
    "\n",
    "The output should look something like this:\n",
    "\n",
    "    The Word Counter Program\n",
    "    \n",
    "    Enter a text string: \n",
    "    Humpty Dumpty sat on a wall, Humpty Dumpty had a great fall. All the king’s horses and all the king’s men couldn’t put Humpty together again.\n",
    "\n",
    "    a : 2\n",
    "    again : 1\n",
    "    all : 2\n",
    "    and : 1\n",
    "    couldn’t : 1\n",
    "    dumpty : 2\n",
    "    fall : 1\n",
    "    great : 1\n",
    "    had : 1\n",
    "    horses : 1\n",
    "    humpty : 3\n",
    "    king’s : 2\n",
    "    men : 1\n",
    "    on : 1\n",
    "    put : 1\n",
    "    sat : 1\n",
    "    the : 2\n",
    "    together : 1\n",
    "    wall : 1\n",
    "\n",
    "    There were total 26 words in the text string   "
   ]
  },
  {
   "cell_type": "code",
   "execution_count": 10,
   "metadata": {},
   "outputs": [
    {
     "name": "stdout",
     "output_type": "stream",
     "text": [
      "The Word Counter Program\n",
      "\n",
      "Enter a text string: \n",
      "I like this class\n",
      "class : 1\n",
      "i : 1\n",
      "like : 1\n",
      "this : 1\n",
      "There were total 4 words in the text string\n"
     ]
    }
   ],
   "source": [
    "def get_words(text) :\n",
    "    text = text.replace(\",\", \"\")\n",
    "    text = text.replace(\".\", \"\")\n",
    "    text = text.lower()\n",
    "    \n",
    "    words = text.split(\" \")\n",
    "    return words\n",
    "\n",
    "def count_words(words) :\n",
    "    word_count = {}\n",
    "    for word in words :\n",
    "        if word in word_count :\n",
    "            word_count[word] += 1\n",
    "        else :\n",
    "            word_count[word] = 1\n",
    "            \n",
    "    return word_count\n",
    "\n",
    "def display_word_count(word_count) :\n",
    "    words = list(word_count.keys())\n",
    "    words.sort(key=str.lower)\n",
    "    total = 0\n",
    "    for word in words :\n",
    "        print(f\"{word} : {word_count[word]}\")\n",
    "        total += word_count[word]\n",
    "    \n",
    "    return total    \n",
    "        \n",
    "print(\"The Word Counter Program\\n\")\n",
    "print(\"Enter a text string: \")\n",
    "text_str = input()\n",
    "word_list = get_words(text_str)\n",
    "word_count_list = count_words(word_list)\n",
    "all_words = display_word_count(word_count_list)\n",
    "print(f\"There were total {all_words} words in the text string\")\n"
   ]
  },
  {
   "cell_type": "code",
   "execution_count": null,
   "metadata": {},
   "outputs": [],
   "source": []
  }
 ],
 "metadata": {
  "kernelspec": {
   "display_name": "Python 3",
   "language": "python",
   "name": "python3"
  },
  "language_info": {
   "codemirror_mode": {
    "name": "ipython",
    "version": 3
   },
   "file_extension": ".py",
   "mimetype": "text/x-python",
   "name": "python",
   "nbconvert_exporter": "python",
   "pygments_lexer": "ipython3",
   "version": "3.8.8"
  }
 },
 "nbformat": 4,
 "nbformat_minor": 4
}
