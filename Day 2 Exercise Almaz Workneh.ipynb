{
 "cells": [
  {
   "cell_type": "markdown",
   "metadata": {},
   "source": [
    "## Exercises\n",
    "### Write the pseudocode for these problems. \n",
    "\n",
    "#### Define the problem by constructing an IPO diagram showing input, output, and processing steps\n",
    "Ask yourself\n",
    "- What control structures (sequence, selection and repetition) are required?\n",
    "- What variables are required?\n",
    "\n",
    "Show a check of your solution with **test data** for at least **two valid test cases**\n",
    "If you use the numbers provided in the example then the correct pseudocode will calculate the same result.\n",
    "    "
   ]
  },
  {
   "cell_type": "markdown",
   "metadata": {},
   "source": [
    "#### 1. Find the average score\n",
    "A program is needed to prompt the user operator for exam scores, calculate the average score and display the result to the screen. The average score is calculated as the sum of the scores divided by the number of scores."
   ]
  },
  {
   "cell_type": "markdown",
   "metadata": {},
   "source": [
    "input: 5 Test Score\n",
    "Output: Average\n",
    "Process:(TestScore1 + TestScore2 + TestScore3 + TestScore4 + TestScore5)/5\n",
    "\n",
    "Prompt the user TestScore1\n",
    "Get TestScore1\n",
    "Prompt the user TestScore2\n",
    "Get TestScore2\n",
    "Prompt the user TestScore3\n",
    "Get TestScore3\n",
    "Prompt the user TestScore4\n",
    "Get TestScore4\n",
    "Prompt the user TestScore5\n",
    "Get TestScore5\n",
    "\n",
    "\n",
    "1. Test Data: 20,30,10,5,15\n",
    "Average= (TestScore1 + TestScore2 + TestScore3 + TestScore4 + TestScore5)/5\n",
    "Enter a TestScore1:20\n",
    "Enter a TestScore2:30\n",
    "Enter a TestScore3:10\n",
    "Enter a TestScore4:5\n",
    "Enter a TestScore5:15\n",
    "16\n",
    "2. Test Data: 25,35,15,10,19,11\n",
    "Average= (TestScore1 + TestScore2 + TestScore3 + TestScore4 + TestScore5 + TestScore6)/6\n",
    "Enter a TestScore1:25\n",
    "Enter a TestScore2:35\n",
    "Enter a TestScore3:15\n",
    "Enter a TestScore4:10\n",
    "Enter a TestScore5:19\n",
    "Enter a TestScore6:11\n",
    "105.83\n",
    "\n",
    "\n"
   ]
  },
  {
   "cell_type": "markdown",
   "metadata": {},
   "source": [
    "#### 2. How much water runs off a roof in a rain storm?\n",
    "To calculate the runoff from any given rainfall: Take the dimensions of the footprint of the roof and convert them to inches. (So, a 50' x 20' roof is 600\" x 240\"). Multiply the roof dimensions by the number of inches of rainfall. As an example, 600\" x 240\" x 1\" = 144,000 cubic inches of water for an inch of rainfall. Divide that result by 231 to get the number of gallons (because 1 gallon = 231 cubic inches). (144,000/231 = 623.38)."
   ]
  },
  {
   "cell_type": "markdown",
   "metadata": {},
   "source": [
    "input: Dimention of the footprint of the roof & the number of inches of rainfall\n",
    "Output: Get the Result in Gallons\n",
    "Process:- Take the dimention of the roof \n",
    "        - Convert the feet dimention to inches\n",
    "        - Multiplay the roof dimention by the number of inches of rainfall\n",
    "        \n",
    "Prompt the user dimention of the footprint of the roof\n",
    "Get Dimention \n",
    "Prompt the user the number of inches of rainfall\n",
    "Get inches of rainfall\n",
    "\n",
    "1. Test Data: Dimention of the footprint of the roof = 70'x30'\n",
    "the number of inches of rainfall = 1\"\n",
    "convert feet to inch so 70'x30'=840\"x360\"\n",
    "calculate the runoff from any given rainfall= 840\"x360\"x1\"=302,400\"\n",
    "Convert to Gallons=302,400/231\n",
    "\n",
    "Result=1,309.1 Gallons\n",
    "\n",
    "2. Test Data: Dimention of the footprint of the roof = 95'x 40'\n",
    "the number of inches of rainfall = 5\"\n",
    "convert feet to inch so 95'x 40'=1140\"x 480\"\n",
    "calculate the runoff from any given rainfall= 1140\"x 480\"x 5\"=2,736,000\"\n",
    "Convert to Gallons=2,736,000/231\n",
    "\n",
    "Result=11,844.15 Gallons\n",
    "                      "
   ]
  },
  {
   "cell_type": "markdown",
   "metadata": {},
   "source": [
    "#### 3. Process customer record\n",
    "A program is required to read a customer’s name, a purchase amount and a tax code. The tax code has been validated and will be one of the following: 0 tax exempt (0%) 1 state sales tax only (3%) 2 federal and state sales tax (5%) 3 special sales tax (7%) The program must then compute the sales tax and the total amount due,and print the customer’s name, purchase amount, sales tax and total amount due."
   ]
  },
  {
   "cell_type": "markdown",
   "metadata": {},
   "source": [
    "input: Customer Name, Purchase Amount and Tax Code\n",
    "Output: Print the customer’s name, purchase amount, sales tax and total amount due.\n",
    "Process:- Get Customer Name,Get Purchased Amount and Get Tax Code\n",
    "        - Compute sales tax based on\n",
    "             if the tax code is 0 then it is tax exempted which is (Purchase amount x 0%)  \n",
    "             if tax code is 1 then it is state tax which is (purchased amount x 3%)\n",
    "             if tax code is 2 then it is federal tax which is (purchased amount x 5%)\n",
    "             if tax code is 3 then it is special sales tax which is (purchased amount x 7%)\n",
    "\n",
    "Prompt the user to enter Customer Name\n",
    "Get Customer Name\n",
    "Prompt the user to enter Purchased Amount\n",
    "Get Purchased Amount\n",
    "Prompt the user to enter Tax Code\n",
    "Get Tax Code\n",
    "\n",
    "1. Test Data: \n",
    "Customer Name = Almaz Workneh\n",
    "Purchased Amount = 1200\n",
    "Tax Code = 2\n",
    "\n",
    "Calculate Tax = 1200 x 5% = 60\n",
    "\n",
    "Output Printed:\n",
    "Customer’s name = ALmaz Workneh\n",
    "purchase amount = 1200\n",
    "sales tax = 60\n",
    "total amount due = 1140\n",
    "\n",
    "2. Test Data: \n",
    "Customer Name = Georege Lee\n",
    "Purchased Amount = 7506\n",
    "Tax Code = 3\n",
    "\n",
    "Calculate Tax = 7506 x 7% = 525.42\n",
    "\n",
    "Output Printed:\n",
    "Customer’s name = Georege Lee\n",
    "purchase amount = 7506\n",
    "sales tax = 525.42\n",
    "total amount due = 6980.58\n"
   ]
  },
  {
   "cell_type": "markdown",
   "metadata": {},
   "source": [
    "#### 4. Calculate employee's pay \n",
    "A program is required by a company to read an employee’s number, pay rate and the number of hours worked in a week. The program is then to validate the pay rate field and the hours worked field and, if valid, compute the employee’s weekly pay and then print it and the input data.\n",
    "\n",
    "Validation: According to the company’s rules, the maximum hours an employee can work per week is 60 hours, and the maximum hourly rate is $25.00 per hour. If the hours worked field or the hourly rate field is out of range, the input data and an appropriate message are to be printed and the employee’s weekly pay is not to be calculated.\n",
    "\n",
    "Weekly pay calculation: Weekly pay is calculated as hours worked times pay rate. If more than 35 hours are worked, payment for the overtime hours worked is calculated at time-and-a-half."
   ]
  },
  {
   "cell_type": "markdown",
   "metadata": {},
   "source": [
    "input: Employee Number, Pay rate and hours worked\n",
    "Output: Weekly Pay\n",
    "Process: - Get Employee Number, Pay rate and hours worked\n",
    "         - Validate the pay rate field and the hours worked field and, if valid, compute the employee’s weekly pay.\n",
    "             Rules:\n",
    "                - The maximum hours an employee can work per week is 60 hours\n",
    "                - The maximum hourly rate is $25.00 per hour.\n",
    "                - If the hours worked field or the hourly rate field is out of range print  \"hourly rate field is out of range                   \" message and the weekly pay will not be calculated.\n",
    "               - Weekly pay = hours worked x pay rate\n",
    "               - If more than 35 hours are worked, payment for the overtime hours worked is calculated \n",
    "               at time-and-a-half.\n",
    "               \n",
    "Prompt the user to enter Employee Number\n",
    "Get Employee Number\n",
    "Prompt the user to enter Pay rate\n",
    "Get Pay rate\n",
    "Prompt the user to enter hours worked\n",
    "Get hours worked\n",
    "\n",
    "1.Test Data: \n",
    "Employee Number = AW0001221\n",
    "Pay rate = $25.00 per hour.\n",
    "hours worked = 40\n",
    "\n",
    "Output Printed:\n",
    "Weekly pay = 35 x 25=875\n",
    "Weekly pay = 5 x 37.5=187.5\n",
    "\n",
    "Weekly Pay Result= 1,062.50\n",
    " \n",
    "\n",
    "2.Test Data: \n",
    "Employee Number = GL0001222\n",
    "Pay rate = $15.00 per hour.\n",
    "hours worked = 80\n",
    "\n",
    "Output Printed:\n",
    "hourly rate field is out of range and the weekly pay will not be calculated."
   ]
  }
 ],
 "metadata": {
  "kernelspec": {
   "display_name": "Python 3",
   "language": "python",
   "name": "python3"
  },
  "language_info": {
   "codemirror_mode": {
    "name": "ipython",
    "version": 3
   },
   "file_extension": ".py",
   "mimetype": "text/x-python",
   "name": "python",
   "nbconvert_exporter": "python",
   "pygments_lexer": "ipython3",
   "version": "3.8.8"
  }
 },
 "nbformat": 4,
 "nbformat_minor": 2
}
